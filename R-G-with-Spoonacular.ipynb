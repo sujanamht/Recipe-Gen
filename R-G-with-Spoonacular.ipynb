{
 "cells": [
  {
   "cell_type": "code",
   "execution_count": 3,
   "id": "60471309-6482-4029-b855-2e1956ee5089",
   "metadata": {},
   "outputs": [],
   "source": [
    "import requests\n",
    "\n",
    "# Define the base URL and your API key\n",
    "BASE_URL = \"https://api.spoonacular.com/recipes/findByIngredients\"\n",
    "API_KEY = \"f4f834931b1f451abdac9f98140cbfaa\"  # Replace with your key\n",
    "\n",
    "def fetch_recipes(ingredients, number=5):\n",
    "    \"\"\"\n",
    "    Fetch recipes based on ingredients from Spoonacular API.\n",
    "    :param ingredients: List of ingredients as strings.\n",
    "    :param number: Number of recipes to fetch.\n",
    "    :return: List of recipes.\n",
    "    \"\"\"\n",
    "    try:\n",
    "        # Convert ingredients list to a comma-separated string\n",
    "        ingredients_str = \",\".join(ingredients)\n",
    "        params = {\n",
    "            \"ingredients\": ingredients_str,\n",
    "            \"number\": number,\n",
    "            \"apiKey\": API_KEY  # Add API key here\n",
    "        }\n",
    "        response = requests.get(BASE_URL, params=params)\n",
    "        response.raise_for_status()  # Raise exception for HTTP errors\n",
    "        return response.json()  # Return JSON response as Python object\n",
    "    except requests.exceptions.RequestException as e:\n",
    "        print(f\"API request failed: {e}\")\n",
    "        return None\n"
   ]
  },
  {
   "cell_type": "code",
   "execution_count": 7,
   "id": "fde0a4e2-ace2-43f5-9ed0-b163f95ec6e2",
   "metadata": {},
   "outputs": [
    {
     "name": "stdin",
     "output_type": "stream",
     "text": [
      "Enter ingredients separated by commas (e.g., butter, olive oil, mushrooms):  butter, eggs, rice\n"
     ]
    },
    {
     "name": "stdout",
     "output_type": "stream",
     "text": [
      "\n",
      "Fetched Recipes:\n",
      "1. Chocolate Caramel Cupcakes (ID: 638879)\n",
      "2. Rice with Fried Egg and Sausage (ID: 658290)\n",
      "3. Rice Pudding (ID: 658276)\n",
      "4. Easy Vegetable Fried Rice (ID: 642138)\n",
      "5. Coulibiac Of Salmon (ID: 640190)\n"
     ]
    }
   ],
   "source": [
    "# Ask the user for a list of ingredients\n",
    "user_input = input(\"Enter ingredients separated by commas (e.g., butter, olive oil, mushrooms): \")\n",
    "\n",
    "# Split the input into a list of ingredients\n",
    "sample_ingredients = [ingredient.strip() for ingredient in user_input.split(\",\")]\n",
    "\n",
    "# Fetch recipes based on user input\n",
    "recipes = fetch_recipes(sample_ingredients)\n",
    "\n",
    "# Print fetched recipes or handle no results\n",
    "if recipes:\n",
    "    print(\"\\nFetched Recipes:\")\n",
    "    for i, recipe in enumerate(recipes, start=1):\n",
    "        print(f\"{i}. {recipe['title']} (ID: {recipe['id']})\")\n",
    "else:\n",
    "    print(\"No recipes found or API call failed.\")\n"
   ]
  },
  {
   "cell_type": "code",
   "execution_count": null,
   "id": "b43a6a3a-c7ec-4c78-9f39-01670dc7d0ae",
   "metadata": {},
   "outputs": [],
   "source": []
  },
  {
   "cell_type": "code",
   "execution_count": null,
   "id": "03952cc7-f915-4bac-ac2d-114fbec6ff84",
   "metadata": {},
   "outputs": [],
   "source": []
  }
 ],
 "metadata": {
  "kernelspec": {
   "display_name": "Python 3 (ipykernel)",
   "language": "python",
   "name": "python3"
  },
  "language_info": {
   "codemirror_mode": {
    "name": "ipython",
    "version": 3
   },
   "file_extension": ".py",
   "mimetype": "text/x-python",
   "name": "python",
   "nbconvert_exporter": "python",
   "pygments_lexer": "ipython3",
   "version": "3.12.7"
  }
 },
 "nbformat": 4,
 "nbformat_minor": 5
}
